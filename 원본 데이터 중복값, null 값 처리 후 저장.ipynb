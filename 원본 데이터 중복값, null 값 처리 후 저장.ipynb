{
 "cells": [
  {
   "cell_type": "code",
   "execution_count": 1,
   "id": "037005bd",
   "metadata": {},
   "outputs": [],
   "source": [
    "import numpy as np # linear algebra\n",
    "import pandas as pd # data processing, CSV file I/O (e.g. pd.read_csv)\n",
    "import matplotlib.pyplot as plt\n",
    "import seaborn as sns"
   ]
  },
  {
   "cell_type": "code",
   "execution_count": 2,
   "id": "0901aa5d",
   "metadata": {},
   "outputs": [],
   "source": [
    "dataframe = pd.read_csv(\"C:/Users/wjddu/git/BigData/train/train_ori.csv\")"
   ]
  },
  {
   "cell_type": "code",
   "execution_count": 3,
   "id": "3bd9c03e",
   "metadata": {},
   "outputs": [],
   "source": [
    "dataframe = dataframe.loc[:, ~dataframe.T.duplicated()]\n",
    "dataframe = dataframe.drop(['hour.1'], axis='columns')"
   ]
  },
  {
   "cell_type": "code",
   "execution_count": 4,
   "id": "37944ae9",
   "metadata": {},
   "outputs": [
    {
     "data": {
      "text/html": [
       "<div>\n",
       "<style scoped>\n",
       "    .dataframe tbody tr th:only-of-type {\n",
       "        vertical-align: middle;\n",
       "    }\n",
       "\n",
       "    .dataframe tbody tr th {\n",
       "        vertical-align: top;\n",
       "    }\n",
       "\n",
       "    .dataframe thead th {\n",
       "        text-align: right;\n",
       "    }\n",
       "</style>\n",
       "<table border=\"1\" class=\"dataframe\">\n",
       "  <thead>\n",
       "    <tr style=\"text-align: right;\">\n",
       "      <th></th>\n",
       "      <th>date</th>\n",
       "      <th>year</th>\n",
       "      <th>month</th>\n",
       "      <th>day</th>\n",
       "      <th>hour</th>\n",
       "      <th>pow_gen</th>\n",
       "      <th>temperature</th>\n",
       "      <th>humidity</th>\n",
       "      <th>dew_point</th>\n",
       "      <th>sol_rad</th>\n",
       "      <th>cloud</th>\n",
       "    </tr>\n",
       "  </thead>\n",
       "  <tbody>\n",
       "    <tr>\n",
       "      <th>0</th>\n",
       "      <td>2016-12-13-14</td>\n",
       "      <td>2016</td>\n",
       "      <td>12</td>\n",
       "      <td>13</td>\n",
       "      <td>14</td>\n",
       "      <td>140.631</td>\n",
       "      <td>4.3</td>\n",
       "      <td>77</td>\n",
       "      <td>0.6</td>\n",
       "      <td>100.000</td>\n",
       "      <td>0</td>\n",
       "    </tr>\n",
       "    <tr>\n",
       "      <th>1</th>\n",
       "      <td>2016-12-13-15</td>\n",
       "      <td>2016</td>\n",
       "      <td>12</td>\n",
       "      <td>13</td>\n",
       "      <td>15</td>\n",
       "      <td>85.793</td>\n",
       "      <td>4.3</td>\n",
       "      <td>80</td>\n",
       "      <td>1.1</td>\n",
       "      <td>72.222</td>\n",
       "      <td>0</td>\n",
       "    </tr>\n",
       "    <tr>\n",
       "      <th>2</th>\n",
       "      <td>2016-12-13-16</td>\n",
       "      <td>2016</td>\n",
       "      <td>12</td>\n",
       "      <td>13</td>\n",
       "      <td>16</td>\n",
       "      <td>32.590</td>\n",
       "      <td>3.8</td>\n",
       "      <td>80</td>\n",
       "      <td>0.6</td>\n",
       "      <td>55.556</td>\n",
       "      <td>0</td>\n",
       "    </tr>\n",
       "    <tr>\n",
       "      <th>3</th>\n",
       "      <td>2016-12-13-17</td>\n",
       "      <td>2016</td>\n",
       "      <td>12</td>\n",
       "      <td>13</td>\n",
       "      <td>17</td>\n",
       "      <td>0.154</td>\n",
       "      <td>3.4</td>\n",
       "      <td>80</td>\n",
       "      <td>0.2</td>\n",
       "      <td>13.889</td>\n",
       "      <td>0</td>\n",
       "    </tr>\n",
       "    <tr>\n",
       "      <th>4</th>\n",
       "      <td>2016-12-13-18</td>\n",
       "      <td>2016</td>\n",
       "      <td>12</td>\n",
       "      <td>13</td>\n",
       "      <td>18</td>\n",
       "      <td>0.000</td>\n",
       "      <td>2.6</td>\n",
       "      <td>86</td>\n",
       "      <td>0.4</td>\n",
       "      <td>2.778</td>\n",
       "      <td>0</td>\n",
       "    </tr>\n",
       "    <tr>\n",
       "      <th>...</th>\n",
       "      <td>...</td>\n",
       "      <td>...</td>\n",
       "      <td>...</td>\n",
       "      <td>...</td>\n",
       "      <td>...</td>\n",
       "      <td>...</td>\n",
       "      <td>...</td>\n",
       "      <td>...</td>\n",
       "      <td>...</td>\n",
       "      <td>...</td>\n",
       "      <td>...</td>\n",
       "    </tr>\n",
       "    <tr>\n",
       "      <th>35482</th>\n",
       "      <td>2020-12-31-19</td>\n",
       "      <td>2020</td>\n",
       "      <td>12</td>\n",
       "      <td>31</td>\n",
       "      <td>19</td>\n",
       "      <td>0.000</td>\n",
       "      <td>-0.9</td>\n",
       "      <td>65</td>\n",
       "      <td>-6.6</td>\n",
       "      <td>0.000</td>\n",
       "      <td>8</td>\n",
       "    </tr>\n",
       "    <tr>\n",
       "      <th>35483</th>\n",
       "      <td>2020-12-31-20</td>\n",
       "      <td>2020</td>\n",
       "      <td>12</td>\n",
       "      <td>31</td>\n",
       "      <td>20</td>\n",
       "      <td>0.000</td>\n",
       "      <td>-1.5</td>\n",
       "      <td>66</td>\n",
       "      <td>-7.0</td>\n",
       "      <td>0.000</td>\n",
       "      <td>8</td>\n",
       "    </tr>\n",
       "    <tr>\n",
       "      <th>35484</th>\n",
       "      <td>2020-12-31-21</td>\n",
       "      <td>2020</td>\n",
       "      <td>12</td>\n",
       "      <td>31</td>\n",
       "      <td>21</td>\n",
       "      <td>0.000</td>\n",
       "      <td>-1.9</td>\n",
       "      <td>75</td>\n",
       "      <td>-5.7</td>\n",
       "      <td>0.000</td>\n",
       "      <td>8</td>\n",
       "    </tr>\n",
       "    <tr>\n",
       "      <th>35485</th>\n",
       "      <td>2020-12-31-22</td>\n",
       "      <td>2020</td>\n",
       "      <td>12</td>\n",
       "      <td>31</td>\n",
       "      <td>22</td>\n",
       "      <td>0.000</td>\n",
       "      <td>-2.7</td>\n",
       "      <td>73</td>\n",
       "      <td>-6.8</td>\n",
       "      <td>0.000</td>\n",
       "      <td>8</td>\n",
       "    </tr>\n",
       "    <tr>\n",
       "      <th>35486</th>\n",
       "      <td>2020-12-31-23</td>\n",
       "      <td>2020</td>\n",
       "      <td>12</td>\n",
       "      <td>31</td>\n",
       "      <td>23</td>\n",
       "      <td>0.000</td>\n",
       "      <td>-4.0</td>\n",
       "      <td>84</td>\n",
       "      <td>-6.3</td>\n",
       "      <td>0.000</td>\n",
       "      <td>5</td>\n",
       "    </tr>\n",
       "  </tbody>\n",
       "</table>\n",
       "<p>35487 rows × 11 columns</p>\n",
       "</div>"
      ],
      "text/plain": [
       "                date  year  month  day  hour  pow_gen  temperature  humidity  \\\n",
       "0      2016-12-13-14  2016     12   13    14  140.631          4.3        77   \n",
       "1      2016-12-13-15  2016     12   13    15   85.793          4.3        80   \n",
       "2      2016-12-13-16  2016     12   13    16   32.590          3.8        80   \n",
       "3      2016-12-13-17  2016     12   13    17    0.154          3.4        80   \n",
       "4      2016-12-13-18  2016     12   13    18    0.000          2.6        86   \n",
       "...              ...   ...    ...  ...   ...      ...          ...       ...   \n",
       "35482  2020-12-31-19  2020     12   31    19    0.000         -0.9        65   \n",
       "35483  2020-12-31-20  2020     12   31    20    0.000         -1.5        66   \n",
       "35484  2020-12-31-21  2020     12   31    21    0.000         -1.9        75   \n",
       "35485  2020-12-31-22  2020     12   31    22    0.000         -2.7        73   \n",
       "35486  2020-12-31-23  2020     12   31    23    0.000         -4.0        84   \n",
       "\n",
       "       dew_point  sol_rad  cloud  \n",
       "0            0.6  100.000      0  \n",
       "1            1.1   72.222      0  \n",
       "2            0.6   55.556      0  \n",
       "3            0.2   13.889      0  \n",
       "4            0.4    2.778      0  \n",
       "...          ...      ...    ...  \n",
       "35482       -6.6    0.000      8  \n",
       "35483       -7.0    0.000      8  \n",
       "35484       -5.7    0.000      8  \n",
       "35485       -6.8    0.000      8  \n",
       "35486       -6.3    0.000      5  \n",
       "\n",
       "[35487 rows x 11 columns]"
      ]
     },
     "execution_count": 4,
     "metadata": {},
     "output_type": "execute_result"
    }
   ],
   "source": [
    "dataframe"
   ]
  },
  {
   "cell_type": "code",
   "execution_count": 5,
   "id": "0af77c92",
   "metadata": {},
   "outputs": [
    {
     "name": "stdout",
     "output_type": "stream",
     "text": [
      "0.0 411.7345 411.7345 -617.60175 1029.33625\n"
     ]
    }
   ],
   "source": [
    "quantile_25 = np.quantile(dataframe['pow_gen'], 0.25)\n",
    "quantile_75 = np.quantile(dataframe['pow_gen'],0.75)\n",
    "IQR = quantile_75 - quantile_25\n",
    "minimum = quantile_25 - 1.5 * IQR\n",
    "maximum = quantile_75 + 1.5 * IQR\n",
    "IQR\n",
    "print(quantile_25, quantile_75, IQR, minimum, maximum)"
   ]
  },
  {
   "cell_type": "code",
   "execution_count": 6,
   "id": "6e42cded",
   "metadata": {},
   "outputs": [],
   "source": [
    "dataframe.drop(dataframe[dataframe.pow_gen >= 1029.33625]. index, inplace = True)"
   ]
  },
  {
   "cell_type": "code",
   "execution_count": 7,
   "id": "8d6cd850",
   "metadata": {},
   "outputs": [],
   "source": [
    "dataframe.drop(dataframe[dataframe.pow_gen <= -617.60175]. index, inplace = True)"
   ]
  },
  {
   "cell_type": "code",
   "execution_count": 8,
   "id": "068845c1",
   "metadata": {},
   "outputs": [
    {
     "name": "stdout",
     "output_type": "stream",
     "text": [
      "5.0 21.3 16.3 -19.450000000000003 45.75\n"
     ]
    }
   ],
   "source": [
    "quantile_25 = np.quantile(dataframe['temperature'], 0.25)\n",
    "quantile_75 = np.quantile(dataframe['temperature'],0.75)\n",
    "IQR = quantile_75 - quantile_25\n",
    "minimum = quantile_25 - 1.5 * IQR\n",
    "maximum = quantile_75 + 1.5 * IQR\n",
    "print(quantile_25, quantile_75, IQR, minimum, maximum)"
   ]
  },
  {
   "cell_type": "code",
   "execution_count": 9,
   "id": "2e2cc471",
   "metadata": {},
   "outputs": [],
   "source": [
    "dataframe.drop(dataframe[dataframe.temperature >= 45.75]. index, inplace = True)"
   ]
  },
  {
   "cell_type": "code",
   "execution_count": 10,
   "id": "22107b11",
   "metadata": {},
   "outputs": [],
   "source": [
    "dataframe.drop(dataframe[dataframe.temperature <= -19.450000000000003]. index, inplace = True)"
   ]
  },
  {
   "cell_type": "code",
   "execution_count": 11,
   "id": "9d79eb1f",
   "metadata": {},
   "outputs": [
    {
     "name": "stdout",
     "output_type": "stream",
     "text": [
      "51.0 90.0 39.0 -7.5 148.5\n"
     ]
    }
   ],
   "source": [
    "quantile_25 = np.quantile(dataframe['humidity'], 0.25)\n",
    "quantile_75 = np.quantile(dataframe['humidity'],0.75)\n",
    "IQR = quantile_75 - quantile_25\n",
    "minimum = quantile_25 - 1.5 * IQR\n",
    "maximum = quantile_75 + 1.5 * IQR\n",
    "print(quantile_25, quantile_75, IQR, minimum, maximum)"
   ]
  },
  {
   "cell_type": "code",
   "execution_count": 12,
   "id": "4d70331e",
   "metadata": {},
   "outputs": [],
   "source": [
    "dataframe.drop(dataframe[dataframe.humidity >= 148.5]. index, inplace = True)"
   ]
  },
  {
   "cell_type": "code",
   "execution_count": 13,
   "id": "fedfabf8",
   "metadata": {},
   "outputs": [],
   "source": [
    "dataframe.drop(dataframe[dataframe.humidity <= -7.5]. index, inplace = True)"
   ]
  },
  {
   "cell_type": "code",
   "execution_count": 14,
   "id": "2c774227",
   "metadata": {},
   "outputs": [
    {
     "name": "stdout",
     "output_type": "stream",
     "text": [
      "-2.2 17.1 19.3 -31.150000000000002 46.050000000000004\n"
     ]
    }
   ],
   "source": [
    "quantile_25 = np.quantile(dataframe['dew_point'], 0.25)\n",
    "quantile_75 = np.quantile(dataframe['dew_point'],0.75)\n",
    "IQR = quantile_75 - quantile_25\n",
    "minimum = quantile_25 - 1.5 * IQR\n",
    "maximum = quantile_75 + 1.5 * IQR\n",
    "print(quantile_25, quantile_75, IQR, minimum, maximum)"
   ]
  },
  {
   "cell_type": "code",
   "execution_count": 15,
   "id": "7b66d15e",
   "metadata": {},
   "outputs": [],
   "source": [
    "dataframe.drop(dataframe[dataframe.dew_point >= 46.050000000000004]. index, inplace = True)"
   ]
  },
  {
   "cell_type": "code",
   "execution_count": 16,
   "id": "31ecfde1",
   "metadata": {},
   "outputs": [],
   "source": [
    "dataframe.drop(dataframe[dataframe.dew_point <= -31.150000000000002]. index, inplace = True)"
   ]
  },
  {
   "cell_type": "code",
   "execution_count": 17,
   "id": "e2656450",
   "metadata": {},
   "outputs": [
    {
     "name": "stdout",
     "output_type": "stream",
     "text": [
      "0.0 177.778 177.778 -266.667 444.44499999999994\n"
     ]
    }
   ],
   "source": [
    "quantile_25 = np.quantile(dataframe['sol_rad'], 0.25)\n",
    "quantile_75 = np.quantile(dataframe['sol_rad'],0.75)\n",
    "IQR = quantile_75 - quantile_25\n",
    "minimum = quantile_25 - 1.5 * IQR\n",
    "maximum = quantile_75 + 1.5 * IQR\n",
    "print(quantile_25, quantile_75, IQR, minimum, maximum)"
   ]
  },
  {
   "cell_type": "code",
   "execution_count": 18,
   "id": "21015395",
   "metadata": {},
   "outputs": [],
   "source": [
    "dataframe.drop(dataframe[dataframe.dew_point >= 444.44499999999994]. index, inplace = True)"
   ]
  },
  {
   "cell_type": "code",
   "execution_count": 19,
   "id": "08e2040a",
   "metadata": {},
   "outputs": [],
   "source": [
    "dataframe.drop(dataframe[dataframe.dew_point <= -266.667]. index, inplace = True)"
   ]
  },
  {
   "cell_type": "code",
   "execution_count": 20,
   "id": "08ef29d8",
   "metadata": {},
   "outputs": [
    {
     "name": "stdout",
     "output_type": "stream",
     "text": [
      "0.0 7.0 7.0 -10.5 17.5\n"
     ]
    }
   ],
   "source": [
    "quantile_25 = np.quantile(dataframe['cloud'], 0.25)\n",
    "quantile_75 = np.quantile(dataframe['cloud'],0.75)\n",
    "IQR = quantile_75 - quantile_25\n",
    "minimum = quantile_25 - 1.5 * IQR\n",
    "maximum = quantile_75 + 1.5 * IQR\n",
    "print(quantile_25, quantile_75, IQR, minimum, maximum)"
   ]
  },
  {
   "cell_type": "code",
   "execution_count": 21,
   "id": "08fa50d8",
   "metadata": {},
   "outputs": [],
   "source": [
    "dataframe.drop(dataframe[dataframe.dew_point >= 17.5]. index, inplace = True)"
   ]
  },
  {
   "cell_type": "code",
   "execution_count": 22,
   "id": "aa90aa56",
   "metadata": {},
   "outputs": [],
   "source": [
    "dataframe.drop(dataframe[dataframe.dew_point <= -10.5]. index, inplace = True)"
   ]
  },
  {
   "cell_type": "code",
   "execution_count": 23,
   "id": "c4333049",
   "metadata": {},
   "outputs": [],
   "source": [
    "import pandas as pd\n",
    "import numpy as np\n",
    "import matplotlib.pyplot as plt\n",
    "\n",
    "dataframe[\"date\"] = pd.to_datetime(dataframe[\"date\"])"
   ]
  },
  {
   "cell_type": "code",
   "execution_count": 24,
   "id": "34a9f08c",
   "metadata": {},
   "outputs": [
    {
     "data": {
      "text/html": [
       "<div>\n",
       "<style scoped>\n",
       "    .dataframe tbody tr th:only-of-type {\n",
       "        vertical-align: middle;\n",
       "    }\n",
       "\n",
       "    .dataframe tbody tr th {\n",
       "        vertical-align: top;\n",
       "    }\n",
       "\n",
       "    .dataframe thead th {\n",
       "        text-align: right;\n",
       "    }\n",
       "</style>\n",
       "<table border=\"1\" class=\"dataframe\">\n",
       "  <thead>\n",
       "    <tr style=\"text-align: right;\">\n",
       "      <th></th>\n",
       "      <th>date</th>\n",
       "      <th>year</th>\n",
       "      <th>month</th>\n",
       "      <th>day</th>\n",
       "      <th>hour</th>\n",
       "      <th>pow_gen</th>\n",
       "      <th>temperature</th>\n",
       "      <th>humidity</th>\n",
       "      <th>dew_point</th>\n",
       "      <th>sol_rad</th>\n",
       "      <th>cloud</th>\n",
       "    </tr>\n",
       "  </thead>\n",
       "  <tbody>\n",
       "  </tbody>\n",
       "</table>\n",
       "</div>"
      ],
      "text/plain": [
       "Empty DataFrame\n",
       "Columns: [date, year, month, day, hour, pow_gen, temperature, humidity, dew_point, sol_rad, cloud]\n",
       "Index: []"
      ]
     },
     "execution_count": 24,
     "metadata": {},
     "output_type": "execute_result"
    }
   ],
   "source": [
    "dataframe[dataframe.duplicated()]"
   ]
  },
  {
   "cell_type": "code",
   "execution_count": 27,
   "id": "71733a1f",
   "metadata": {},
   "outputs": [
    {
     "data": {
      "text/plain": [
       "date           0\n",
       "year           0\n",
       "month          0\n",
       "day            0\n",
       "hour           0\n",
       "pow_gen        0\n",
       "temperature    0\n",
       "humidity       0\n",
       "dew_point      0\n",
       "sol_rad        0\n",
       "cloud          0\n",
       "dtype: int64"
      ]
     },
     "execution_count": 27,
     "metadata": {},
     "output_type": "execute_result"
    }
   ],
   "source": [
    "dataframe.isnull().sum()"
   ]
  },
  {
   "cell_type": "code",
   "execution_count": 28,
   "id": "bf683bb2",
   "metadata": {},
   "outputs": [],
   "source": [
    "dataframe.rename(columns={\"pow_gen\": \"발전량\",\n",
    "                     \"temperature\": \"기온\",\n",
    "                     \"humidity\": \"습도\",\n",
    "                     \"dew_point\": \"이슬점 온도\",\n",
    "                     \"sol_rad\": \"일사량\",\n",
    "                     \"cloud\": \"구름양\"}, inplace=True)"
   ]
  },
  {
   "cell_type": "code",
   "execution_count": 29,
   "id": "29bd3643",
   "metadata": {},
   "outputs": [
    {
     "data": {
      "text/html": [
       "<div>\n",
       "<style scoped>\n",
       "    .dataframe tbody tr th:only-of-type {\n",
       "        vertical-align: middle;\n",
       "    }\n",
       "\n",
       "    .dataframe tbody tr th {\n",
       "        vertical-align: top;\n",
       "    }\n",
       "\n",
       "    .dataframe thead th {\n",
       "        text-align: right;\n",
       "    }\n",
       "</style>\n",
       "<table border=\"1\" class=\"dataframe\">\n",
       "  <thead>\n",
       "    <tr style=\"text-align: right;\">\n",
       "      <th></th>\n",
       "      <th>date</th>\n",
       "      <th>year</th>\n",
       "      <th>month</th>\n",
       "      <th>day</th>\n",
       "      <th>hour</th>\n",
       "      <th>발전량</th>\n",
       "      <th>기온</th>\n",
       "      <th>습도</th>\n",
       "      <th>이슬점 온도</th>\n",
       "      <th>일사량</th>\n",
       "      <th>구름양</th>\n",
       "    </tr>\n",
       "  </thead>\n",
       "  <tbody>\n",
       "    <tr>\n",
       "      <th>0</th>\n",
       "      <td>2016-12-13 14:00:00</td>\n",
       "      <td>2016</td>\n",
       "      <td>12</td>\n",
       "      <td>13</td>\n",
       "      <td>14</td>\n",
       "      <td>140.631</td>\n",
       "      <td>4.3</td>\n",
       "      <td>77</td>\n",
       "      <td>0.6</td>\n",
       "      <td>100.000</td>\n",
       "      <td>0</td>\n",
       "    </tr>\n",
       "    <tr>\n",
       "      <th>1</th>\n",
       "      <td>2016-12-13 15:00:00</td>\n",
       "      <td>2016</td>\n",
       "      <td>12</td>\n",
       "      <td>13</td>\n",
       "      <td>15</td>\n",
       "      <td>85.793</td>\n",
       "      <td>4.3</td>\n",
       "      <td>80</td>\n",
       "      <td>1.1</td>\n",
       "      <td>72.222</td>\n",
       "      <td>0</td>\n",
       "    </tr>\n",
       "    <tr>\n",
       "      <th>2</th>\n",
       "      <td>2016-12-13 16:00:00</td>\n",
       "      <td>2016</td>\n",
       "      <td>12</td>\n",
       "      <td>13</td>\n",
       "      <td>16</td>\n",
       "      <td>32.590</td>\n",
       "      <td>3.8</td>\n",
       "      <td>80</td>\n",
       "      <td>0.6</td>\n",
       "      <td>55.556</td>\n",
       "      <td>0</td>\n",
       "    </tr>\n",
       "    <tr>\n",
       "      <th>3</th>\n",
       "      <td>2016-12-13 17:00:00</td>\n",
       "      <td>2016</td>\n",
       "      <td>12</td>\n",
       "      <td>13</td>\n",
       "      <td>17</td>\n",
       "      <td>0.154</td>\n",
       "      <td>3.4</td>\n",
       "      <td>80</td>\n",
       "      <td>0.2</td>\n",
       "      <td>13.889</td>\n",
       "      <td>0</td>\n",
       "    </tr>\n",
       "    <tr>\n",
       "      <th>4</th>\n",
       "      <td>2016-12-13 18:00:00</td>\n",
       "      <td>2016</td>\n",
       "      <td>12</td>\n",
       "      <td>13</td>\n",
       "      <td>18</td>\n",
       "      <td>0.000</td>\n",
       "      <td>2.6</td>\n",
       "      <td>86</td>\n",
       "      <td>0.4</td>\n",
       "      <td>2.778</td>\n",
       "      <td>0</td>\n",
       "    </tr>\n",
       "    <tr>\n",
       "      <th>...</th>\n",
       "      <td>...</td>\n",
       "      <td>...</td>\n",
       "      <td>...</td>\n",
       "      <td>...</td>\n",
       "      <td>...</td>\n",
       "      <td>...</td>\n",
       "      <td>...</td>\n",
       "      <td>...</td>\n",
       "      <td>...</td>\n",
       "      <td>...</td>\n",
       "      <td>...</td>\n",
       "    </tr>\n",
       "    <tr>\n",
       "      <th>35482</th>\n",
       "      <td>2020-12-31 19:00:00</td>\n",
       "      <td>2020</td>\n",
       "      <td>12</td>\n",
       "      <td>31</td>\n",
       "      <td>19</td>\n",
       "      <td>0.000</td>\n",
       "      <td>-0.9</td>\n",
       "      <td>65</td>\n",
       "      <td>-6.6</td>\n",
       "      <td>0.000</td>\n",
       "      <td>8</td>\n",
       "    </tr>\n",
       "    <tr>\n",
       "      <th>35483</th>\n",
       "      <td>2020-12-31 20:00:00</td>\n",
       "      <td>2020</td>\n",
       "      <td>12</td>\n",
       "      <td>31</td>\n",
       "      <td>20</td>\n",
       "      <td>0.000</td>\n",
       "      <td>-1.5</td>\n",
       "      <td>66</td>\n",
       "      <td>-7.0</td>\n",
       "      <td>0.000</td>\n",
       "      <td>8</td>\n",
       "    </tr>\n",
       "    <tr>\n",
       "      <th>35484</th>\n",
       "      <td>2020-12-31 21:00:00</td>\n",
       "      <td>2020</td>\n",
       "      <td>12</td>\n",
       "      <td>31</td>\n",
       "      <td>21</td>\n",
       "      <td>0.000</td>\n",
       "      <td>-1.9</td>\n",
       "      <td>75</td>\n",
       "      <td>-5.7</td>\n",
       "      <td>0.000</td>\n",
       "      <td>8</td>\n",
       "    </tr>\n",
       "    <tr>\n",
       "      <th>35485</th>\n",
       "      <td>2020-12-31 22:00:00</td>\n",
       "      <td>2020</td>\n",
       "      <td>12</td>\n",
       "      <td>31</td>\n",
       "      <td>22</td>\n",
       "      <td>0.000</td>\n",
       "      <td>-2.7</td>\n",
       "      <td>73</td>\n",
       "      <td>-6.8</td>\n",
       "      <td>0.000</td>\n",
       "      <td>8</td>\n",
       "    </tr>\n",
       "    <tr>\n",
       "      <th>35486</th>\n",
       "      <td>2020-12-31 23:00:00</td>\n",
       "      <td>2020</td>\n",
       "      <td>12</td>\n",
       "      <td>31</td>\n",
       "      <td>23</td>\n",
       "      <td>0.000</td>\n",
       "      <td>-4.0</td>\n",
       "      <td>84</td>\n",
       "      <td>-6.3</td>\n",
       "      <td>0.000</td>\n",
       "      <td>5</td>\n",
       "    </tr>\n",
       "  </tbody>\n",
       "</table>\n",
       "<p>22492 rows × 11 columns</p>\n",
       "</div>"
      ],
      "text/plain": [
       "                     date  year  month  day  hour      발전량   기온  습도  이슬점 온도  \\\n",
       "0     2016-12-13 14:00:00  2016     12   13    14  140.631  4.3  77     0.6   \n",
       "1     2016-12-13 15:00:00  2016     12   13    15   85.793  4.3  80     1.1   \n",
       "2     2016-12-13 16:00:00  2016     12   13    16   32.590  3.8  80     0.6   \n",
       "3     2016-12-13 17:00:00  2016     12   13    17    0.154  3.4  80     0.2   \n",
       "4     2016-12-13 18:00:00  2016     12   13    18    0.000  2.6  86     0.4   \n",
       "...                   ...   ...    ...  ...   ...      ...  ...  ..     ...   \n",
       "35482 2020-12-31 19:00:00  2020     12   31    19    0.000 -0.9  65    -6.6   \n",
       "35483 2020-12-31 20:00:00  2020     12   31    20    0.000 -1.5  66    -7.0   \n",
       "35484 2020-12-31 21:00:00  2020     12   31    21    0.000 -1.9  75    -5.7   \n",
       "35485 2020-12-31 22:00:00  2020     12   31    22    0.000 -2.7  73    -6.8   \n",
       "35486 2020-12-31 23:00:00  2020     12   31    23    0.000 -4.0  84    -6.3   \n",
       "\n",
       "           일사량  구름양  \n",
       "0      100.000    0  \n",
       "1       72.222    0  \n",
       "2       55.556    0  \n",
       "3       13.889    0  \n",
       "4        2.778    0  \n",
       "...        ...  ...  \n",
       "35482    0.000    8  \n",
       "35483    0.000    8  \n",
       "35484    0.000    8  \n",
       "35485    0.000    8  \n",
       "35486    0.000    5  \n",
       "\n",
       "[22492 rows x 11 columns]"
      ]
     },
     "execution_count": 29,
     "metadata": {},
     "output_type": "execute_result"
    }
   ],
   "source": [
    "dataframe"
   ]
  },
  {
   "cell_type": "code",
   "execution_count": 40,
   "id": "cfdcee4c",
   "metadata": {},
   "outputs": [],
   "source": [
    "dataframe.to_csv(\"C:/Users/wjddu/OneDrive/바탕 화면/data.csv\", header=True, index = True, encoding='cp949')"
   ]
  },
  {
   "cell_type": "code",
   "execution_count": null,
   "id": "ce0f621f",
   "metadata": {},
   "outputs": [],
   "source": []
  }
 ],
 "metadata": {
  "kernelspec": {
   "display_name": "Python 3",
   "language": "python",
   "name": "python3"
  },
  "language_info": {
   "codemirror_mode": {
    "name": "ipython",
    "version": 3
   },
   "file_extension": ".py",
   "mimetype": "text/x-python",
   "name": "python",
   "nbconvert_exporter": "python",
   "pygments_lexer": "ipython3",
   "version": "3.8.8"
  }
 },
 "nbformat": 4,
 "nbformat_minor": 5
}

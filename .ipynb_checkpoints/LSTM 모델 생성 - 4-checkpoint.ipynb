{
 "cells": [
  {
   "cell_type": "code",
   "execution_count": null,
   "id": "acc7e90e",
   "metadata": {},
   "outputs": [],
   "source": [
    "import numpy as np # linear algebra\n",
    "import pandas as pd # data processing, CSV file I/O (e.g. pd.read_csv)\n",
    "import matplotlib.pyplot as plt\n",
    "import seaborn as sns\n",
    "import platform\n",
    "platform.system()\n",
    "\n",
    "if platform.system() == 'Darwin': # Mac 환경 폰트 설정\n",
    "    plt.rc('font', family='AppleGothic')\n",
    "elif platform.system() == 'Windows': # Windows 환경 폰트 설정\n",
    "    plt.rc('font', family='Malgun Gothic')\n",
    "\n",
    "plt.rc('axes', unicode_minus=False) # 마이너스 폰트 설정\n",
    "plt.rc('axes', labelsize=30)   # x,y축 label 폰트 크기\n",
    "\n",
    "\n",
    "# 글씨 선명하게 출력하는 설정\n",
    "%config InlineBackend.figure_format = 'retina'"
   ]
  },
  {
   "cell_type": "code",
   "execution_count": null,
   "id": "8ef3fffc",
   "metadata": {},
   "outputs": [],
   "source": [
    "import os\n",
    "import random\n",
    "import time\n",
    "\n",
    "from itertools import combinations\n",
    "\n",
    "from sklearn.preprocessing import MinMaxScaler\n",
    "from sklearn.metrics import mean_squared_error, mean_absolute_error, r2_score, mean_absolute_percentage_error\n",
    "from sklearn.model_selection import train_test_split\n",
    "\n",
    "import tensorflow as tf\n",
    "import tensorflow_addons as tfa\n",
    "\n",
    "import seaborn as sns"
   ]
  },
  {
   "cell_type": "code",
   "execution_count": null,
   "id": "87d04248",
   "metadata": {},
   "outputs": [],
   "source": [
    "dataframe = pd.read_csv(\"C:/Users/wjddu/git/Domestic-Solar-Power-Output-Prediction/최종 data.csv\")"
   ]
  },
  {
   "cell_type": "code",
   "execution_count": null,
   "id": "a008e345",
   "metadata": {},
   "outputs": [],
   "source": [
    "dataframe"
   ]
  },
  {
   "cell_type": "code",
   "execution_count": null,
   "id": "16278354",
   "metadata": {},
   "outputs": [],
   "source": [
    "os.environ['CUDA_VISIBLE_DEVICES'] = '-1'\n",
    "\n",
    "def set_random_seed(seed=0):\n",
    "    random.seed(seed)\n",
    "    np.random.seed(seed)\n",
    "    tf.random.set_seed(seed)\n",
    "\n",
    "\n",
    "set_random_seed(seed=0)\n",
    "print(\"Num GPUs Available:\", len(tf.config.list_physical_devices('GPU')), tf.test.is_built_with_cuda())"
   ]
  },
  {
   "cell_type": "code",
   "execution_count": null,
   "id": "45eabee0",
   "metadata": {},
   "outputs": [],
   "source": [
    "X_features = ['month', 'hour', '기온', '습도', '이슬점 온도', '일사량', '구름양']\n",
    "y_feature = ['발전량']\n",
    "\n",
    "X = dataframe[X_features]\n",
    "y = dataframe[y_feature]\n",
    "\n",
    "X.shape, y.shape"
   ]
  },
  {
   "cell_type": "code",
   "execution_count": null,
   "id": "2422adf1",
   "metadata": {},
   "outputs": [],
   "source": [
    "x_scaler = MinMaxScaler()\n",
    "y_scaler = MinMaxScaler()\n",
    "\n",
    "X_norm, y_norm = X.copy(), y.copy()\n",
    "X_norm.iloc[:, 2:] = x_scaler.fit_transform(X_norm.iloc[:, 2:])\n",
    "y_norm.iloc[:, :] = y_scaler.fit_transform(y_norm.iloc[:, :])\n",
    "\n",
    "X_norm.shape, y_norm.shape"
   ]
  },
  {
   "cell_type": "code",
   "execution_count": null,
   "id": "b12119cf",
   "metadata": {},
   "outputs": [],
   "source": [
    "dataframe.describe()"
   ]
  },
  {
   "cell_type": "code",
   "execution_count": null,
   "id": "d2238c94",
   "metadata": {},
   "outputs": [],
   "source": []
  },
  {
   "cell_type": "code",
   "execution_count": null,
   "id": "8bcfc1a6",
   "metadata": {},
   "outputs": [],
   "source": [
    "def split_sequences(feature, label, timestep=22):\n",
    "    X, y = [], []\n",
    "    \n",
    "    for i in range(timestep, len(feature)):\n",
    "        \n",
    "        _X = feature[(i-timestep):i]\n",
    "        _y = label[i:i+1]\n",
    "\n",
    "        X.append(_X)\n",
    "        y.append(_y)\n",
    "    return np.array(X), np.array(y)\n",
    "\n",
    "X_total, y_total = split_sequences(X_norm.values, y_norm.values.flatten())"
   ]
  },
  {
   "cell_type": "code",
   "execution_count": null,
   "id": "7abc98a0",
   "metadata": {},
   "outputs": [],
   "source": [
    "X_norm"
   ]
  },
  {
   "cell_type": "code",
   "execution_count": null,
   "id": "9e9f4544",
   "metadata": {},
   "outputs": [],
   "source": [
    "y_norm"
   ]
  },
  {
   "cell_type": "code",
   "execution_count": null,
   "id": "b05b9f76",
   "metadata": {},
   "outputs": [],
   "source": [
    "X_total"
   ]
  },
  {
   "cell_type": "code",
   "execution_count": null,
   "id": "fc65f426",
   "metadata": {},
   "outputs": [],
   "source": [
    "y_total"
   ]
  },
  {
   "cell_type": "code",
   "execution_count": null,
   "id": "27a6ad0e",
   "metadata": {},
   "outputs": [],
   "source": [
    "X_learn, X_test, y_learn, y_test = train_test_split(X_total, y_total, test_size=0.2, shuffle=False, random_state=0)\n",
    "y_test_inv = y_scaler.inverse_transform(y_test)\n",
    "\n",
    "# y_true_df = pd.DataFrame({'y_true': y_test_inv.ravel()})\n",
    "# y_true_df.to_csv('./data_0310/total_result.csv', index=False)\n",
    "\n",
    "X_learn.shape, X_test.shape, y_learn.shape, y_test.shape"
   ]
  },
  {
   "cell_type": "code",
   "execution_count": null,
   "id": "29b760aa",
   "metadata": {},
   "outputs": [],
   "source": [
    "def create_train_valid_test(X, y, shuffle=True):\n",
    "    X_train, X_val, y_train, y_val = train_test_split(X, y, test_size=X_test.shape[0], random_state=0, shuffle=shuffle)\n",
    "    return X_train, X_val, y_train, y_val"
   ]
  },
  {
   "cell_type": "code",
   "execution_count": null,
   "id": "16b4b51d",
   "metadata": {},
   "outputs": [],
   "source": [
    "def generate_model_lstm(trainX, trainy, valX, valy, units=60, name='lstm', ndx=0):\n",
    "    \n",
    "    print(units)\n",
    "    \n",
    "    start_time = time.time()\n",
    "    tf.keras.backend.clear_session()\n",
    "    set_random_seed(seed=0)\n",
    "    model = tf.keras.models.Sequential()\n",
    "    model.add(tf.keras.layers.LSTM(units))\n",
    "    model.add(tf.keras.layers.Dense(1))\n",
    "    \n",
    "    early_stop = tf.keras.callbacks.EarlyStopping(monitor='val_loss', patience=30, verbose=0, mode='auto', restore_best_weights=True)\n",
    "    \n",
    "    filepath = './data/0222/%s_%d_best.hdf5' % (name, ndx)\n",
    "    \n",
    "    checkpoint = tf.keras.callbacks.ModelCheckpoint(filepath, monitor='val_loss', verbose=0, save_best_only=True, save_weights_only=False, mode='auto')\n",
    "    tqdm_callback = tfa.callbacks.TQDMProgressBar(show_epoch_progress=False)\n",
    "    \n",
    "    optimizer = tf.keras.optimizers.RMSprop(learning_rate=0.001)\n",
    "    \n",
    "    model.compile(loss='mean_squared_error', optimizer=optimizer, metrics=['mean_squared_error'])\n",
    "    \n",
    "    model.fit(trainX, trainy, epochs=1000, validation_data = (valX, valy), verbose=0, shuffle=False, callbacks=[early_stop, tqdm_callback])\n",
    "    print(\"--- %s seconds ---\" % (time.time() - start_time))\n",
    "    return model\n",
    "\n",
    "def evaluate(y_true, y_pred):\n",
    "    r2 = r2_score(y_true, y_pred)\n",
    "    mae = mean_absolute_error(y_true, y_pred)\n",
    "    rmse = mean_squared_error(y_true, y_pred, squared=False)\n",
    "    return np.round(r2*100, 1), np.round(mae, 1), np.round(rmse, 1)\n",
    "\n",
    "def save_result(colname, data):\n",
    "    path = './data_0310/total_result.csv'\n",
    "    result_df = pd.read_csv(path)\n",
    "    result_df[colname] = data.ravel()\n",
    "    result_df.to_csv(path, index=False)"
   ]
  },
  {
   "cell_type": "code",
   "execution_count": null,
   "id": "ba1ed6b7",
   "metadata": {},
   "outputs": [],
   "source": [
    "X_train, X_val, y_train, y_val = create_train_valid_test(X_learn, y_learn, shuffle=False)\n",
    "\n",
    "X_train.shape, X_val.shape, y_train.shape, y_val.shape"
   ]
  },
  {
   "cell_type": "code",
   "execution_count": null,
   "id": "1c335444",
   "metadata": {},
   "outputs": [],
   "source": [
    "model = generate_model_lstm(X_train, y_train, X_val, y_val, units=100)\n",
    "\n",
    "y_forecast = model.predict(X_test)\n",
    "y_forecast_inv = y_scaler.inverse_transform(y_forecast)\n",
    "r2, mae, rmse = evaluate(y_test_inv, y_forecast_inv)\n",
    "\n",
    "\n",
    "r2, rmse"
   ]
  },
  {
   "cell_type": "code",
   "execution_count": null,
   "id": "aa588adf",
   "metadata": {},
   "outputs": [],
   "source": [
    "x_range = range(100,230)\n",
    "plt.rcParams[\"figure.figsize\"] = (20,8)\n",
    "plt.plot(x_range, y_test[x_range], color='red', label=\"true\")\n",
    "plt.plot(x_range, y_forecast[x_range], color='blue', label=\"pred\")\n",
    "plt.legend()\n",
    "plt.grid()\n",
    "plt.show()"
   ]
  },
  {
   "cell_type": "code",
   "execution_count": null,
   "id": "c27629d7",
   "metadata": {},
   "outputs": [],
   "source": []
  },
  {
   "cell_type": "code",
   "execution_count": null,
   "id": "abacbaf1",
   "metadata": {},
   "outputs": [],
   "source": []
  },
  {
   "cell_type": "code",
   "execution_count": null,
   "id": "43f20a24",
   "metadata": {},
   "outputs": [],
   "source": []
  }
 ],
 "metadata": {
  "kernelspec": {
   "display_name": "Python 3",
   "language": "python",
   "name": "python3"
  },
  "language_info": {
   "codemirror_mode": {
    "name": "ipython",
    "version": 3
   },
   "file_extension": ".py",
   "mimetype": "text/x-python",
   "name": "python",
   "nbconvert_exporter": "python",
   "pygments_lexer": "ipython3",
   "version": "3.8.8"
  }
 },
 "nbformat": 4,
 "nbformat_minor": 5
}
